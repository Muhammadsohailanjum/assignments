{
 "cells": [
  {
   "cell_type": "markdown",
   "id": "8e622c8c-6b7a-4887-a561-152cd6f032d5",
   "metadata": {},
   "source": [
    "# Assignment 1  \n",
    "### 01.09.2025  \n",
    "**Harisha wishmini**\n"
   ]
  },
  {
   "cell_type": "markdown",
   "id": "0ea5910c-9f47-4662-b040-c471c89f713a",
   "metadata": {},
   "source": [
    "## Most commonly used programming languages\n",
    "- Python  \n",
    "- Javascript  \n",
    "- C# \n",
    "- C\n"
   ]
  },
  {
   "cell_type": "markdown",
   "id": "80e107fe-9475-49dc-ad76-1438deb3ed2a",
   "metadata": {},
   "source": [
    "| Intermediate Devices | End Devices       | Media             |\n",
    "|----------------------|-------------------|-------------------|\n",
    "| Modem               | Laptop            | Bluetooth         |\n",
    "| Router              | phone             | Fiber Optic Cable |\n",
    "| Firewall            | Tablet            | Wi-Fi             |\n"
   ]
  },
  {
   "cell_type": "code",
   "execution_count": 7,
   "id": "fd1792cf-5748-4f4a-91c5-5d58fcc30ae2",
   "metadata": {},
   "outputs": [
    {
     "name": "stdout",
     "output_type": "stream",
     "text": [
      "Harisha wishmini\n"
     ]
    }
   ],
   "source": [
    "print(\"Harisha wishmini\")\n"
   ]
  },
  {
   "cell_type": "code",
   "execution_count": 8,
   "id": "91a4cb9b-933d-4fc5-8d03-70f47ce7d856",
   "metadata": {},
   "outputs": [
    {
     "name": "stdin",
     "output_type": "stream",
     "text": [
      "Enter name:  Harisha Wishmini\n"
     ]
    },
    {
     "name": "stdout",
     "output_type": "stream",
     "text": [
      "Hello Harisha Wishmini\n"
     ]
    }
   ],
   "source": [
    "name = input(\"Enter name: \")\n",
    "print(\"Hello \" + name)\n"
   ]
  },
  {
   "cell_type": "code",
   "execution_count": 9,
   "id": "7497a258-33f5-4035-827b-c357173f526e",
   "metadata": {},
   "outputs": [
    {
     "name": "stdin",
     "output_type": "stream",
     "text": [
      "Enter number 1:  38\n",
      "Enter number 2:  91\n"
     ]
    },
    {
     "name": "stdout",
     "output_type": "stream",
     "text": [
      "The sum of number 1 & 2: 129\n"
     ]
    }
   ],
   "source": [
    "num1 = int(input(\"Enter number 1: \"))\n",
    "num2 = int(input(\"Enter number 2: \"))\n",
    "sum = num1 + num2\n",
    "print(\"The sum of number 1 & 2:\", sum)\n"
   ]
  },
  {
   "cell_type": "code",
   "execution_count": null,
   "id": "34e923a8-5c5f-48dc-b7ed-76cde1741a26",
   "metadata": {},
   "outputs": [],
   "source": []
  }
 ],
 "metadata": {
  "kernelspec": {
   "display_name": "Python 3 (ipykernel)",
   "language": "python",
   "name": "python3"
  },
  "language_info": {
   "codemirror_mode": {
    "name": "ipython",
    "version": 3
   },
   "file_extension": ".py",
   "mimetype": "text/x-python",
   "name": "python",
   "nbconvert_exporter": "python",
   "pygments_lexer": "ipython3",
   "version": "3.13.5"
  }
 },
 "nbformat": 4,
 "nbformat_minor": 5
}
