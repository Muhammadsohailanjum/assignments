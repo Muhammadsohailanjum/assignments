{
 "cells": [
  {
   "cell_type": "code",
   "execution_count": 1,
   "id": "f2159a4a-14c4-4857-8208-4d69f85cc2ed",
   "metadata": {},
   "outputs": [
    {
     "name": "stdout",
     "output_type": "stream",
     "text": [
      "The result of the calculation: \n",
      "    149769\n"
     ]
    }
   ],
   "source": [
    "# Step 1: Defining variables\n",
    "first_number = 100\n",
    "second_number = 29\n",
    "\n",
    "# Step 2: Sum and multiply\n",
    "sum_times_three = (first_number + second_number) * 3\n",
    "\n",
    "# Step 3: Calculation\n",
    "final_result = sum_times_three ** 2\n",
    "\n",
    "# Step 4: Result\n",
    "print(\"The result of the calculation: \")\n",
    "print(\"    \" + str(final_result))\n"
   ]
  },
  {
   "cell_type": "code",
   "execution_count": 2,
   "id": "7970ef9c-f6b2-4a21-9344-d2504fb983ce",
   "metadata": {
    "jupyter": {
     "source_hidden": true
    }
   },
   "outputs": [
    {
     "name": "stdin",
     "output_type": "stream",
     "text": [
      "Enter your name:  Muhammad Sohail\n",
      "Enter your year of birth:  1985\n",
      "Enter your age:  40\n"
     ]
    },
    {
     "name": "stdout",
     "output_type": "stream",
     "text": [
      "Password: 85Muh1600\n"
     ]
    }
   ],
   "source": [
    "# User input\n",
    "name = input(\"Enter your name: \")\n",
    "year_of_birth = int(input(\"Enter your year of birth: \"))\n",
    "age = int(input(\"Enter your age: \"))\n",
    "\n",
    "# Create Password\n",
    "last_two_digits = str(year_of_birth)[-2:]\n",
    "first_three_letters = name[:3]\n",
    "age_squared = str(age ** 2)\n",
    "\n",
    "# Combining\n",
    "password = last_two_digits + first_three_letters + age_squared\n",
    "\n",
    "# Result\n",
    "print(\"Password:\", password)\n"
   ]
  },
  {
   "cell_type": "code",
   "execution_count": 3,
   "id": "2eca7885-0934-4349-a0aa-fa2e041e0043",
   "metadata": {},
   "outputs": [
    {
     "name": "stdin",
     "output_type": "stream",
     "text": [
      "First number:  21\n",
      "Second number:  32\n"
     ]
    },
    {
     "name": "stdout",
     "output_type": "stream",
     "text": [
      "One of the numbers is even.\n"
     ]
    }
   ],
   "source": [
    "# Input numbers\n",
    "num1 = int(input(\"First number: \"))\n",
    "num2 = int(input(\"Second number: \"))\n",
    "\n",
    "# Check conditions and print\n",
    "if num1 % 2 == 0 and num2 % 2 == 0:\n",
    "    print(\"Both numbers are even.\")\n",
    "elif num1 % 2 == 0 or num2 % 2 == 0:\n",
    "    print(\"One of the numbers is even.\")\n",
    "else:\n",
    "    print(\"Both numbers are odd.\")\n"
   ]
  },
  {
   "cell_type": "code",
   "execution_count": 4,
   "id": "272eeeae-9ba5-4153-9490-571d51676931",
   "metadata": {},
   "outputs": [
    {
     "name": "stdin",
     "output_type": "stream",
     "text": [
      "Give an integer:  5\n"
     ]
    },
    {
     "name": "stdout",
     "output_type": "stream",
     "text": [
      "The sum was: 10\n"
     ]
    }
   ],
   "source": [
    "# Input number\n",
    "n = int(input(\"Give an integer: \"))\n",
    "\n",
    "# Calculation\n",
    "total_sum = sum(range(n))\n",
    "\n",
    "# Result\n",
    "print(\"The sum was:\", total_sum)\n"
   ]
  },
  {
   "cell_type": "code",
   "execution_count": 6,
   "id": "f604c744-2dc3-4dd6-8247-f920ab21e40b",
   "metadata": {},
   "outputs": [
    {
     "name": "stdin",
     "output_type": "stream",
     "text": [
      "Player:  1\n"
     ]
    },
    {
     "name": "stdout",
     "output_type": "stream",
     "text": [
      "Try a greater number.\n"
     ]
    },
    {
     "name": "stdin",
     "output_type": "stream",
     "text": [
      "Player:  5\n"
     ]
    },
    {
     "name": "stdout",
     "output_type": "stream",
     "text": [
      "Try a greater number.\n"
     ]
    },
    {
     "name": "stdin",
     "output_type": "stream",
     "text": [
      "Player:  23\n"
     ]
    },
    {
     "name": "stdout",
     "output_type": "stream",
     "text": [
      "Try a smaller number.\n"
     ]
    },
    {
     "name": "stdin",
     "output_type": "stream",
     "text": [
      "Player:  15\n"
     ]
    },
    {
     "name": "stdout",
     "output_type": "stream",
     "text": [
      "Try a smaller number.\n"
     ]
    },
    {
     "name": "stdin",
     "output_type": "stream",
     "text": [
      "Player:  10\n"
     ]
    },
    {
     "name": "stdout",
     "output_type": "stream",
     "text": [
      "Try a smaller number.\n"
     ]
    },
    {
     "name": "stdin",
     "output_type": "stream",
     "text": [
      "Player:  7\n"
     ]
    },
    {
     "name": "stdout",
     "output_type": "stream",
     "text": [
      "Try a smaller number.\n"
     ]
    },
    {
     "name": "stdin",
     "output_type": "stream",
     "text": [
      "Player:  5\n"
     ]
    },
    {
     "name": "stdout",
     "output_type": "stream",
     "text": [
      "Try a greater number.\n"
     ]
    },
    {
     "name": "stdin",
     "output_type": "stream",
     "text": [
      "Player:  6\n"
     ]
    },
    {
     "name": "stdout",
     "output_type": "stream",
     "text": [
      "That's right! Number of tries: 8\n"
     ]
    }
   ],
   "source": [
    "import random\n",
    "\n",
    "# Dealer generates random number between 0 and 10\n",
    "dealer_number = random.randint(0, 10)\n",
    "\n",
    "tries = 0\n",
    "while True:\n",
    "    player_guess = int(input(\"Player: \"))\n",
    "    tries += 1\n",
    "\n",
    "    if player_guess < dealer_number:\n",
    "        print(\"Try a greater number.\")\n",
    "    elif player_guess > dealer_number:\n",
    "        print(\"Try a smaller number.\")\n",
    "    else:\n",
    "        print(f\"That's right! Number of tries: {tries}\")\n",
    "        break\n"
   ]
  },
  {
   "cell_type": "code",
   "execution_count": null,
   "id": "49d0b2aa-7e50-4d48-ad1d-52235e5f9474",
   "metadata": {},
   "outputs": [],
   "source": []
  }
 ],
 "metadata": {
  "kernelspec": {
   "display_name": "Python 3 (ipykernel)",
   "language": "python",
   "name": "python3"
  },
  "language_info": {
   "codemirror_mode": {
    "name": "ipython",
    "version": 3
   },
   "file_extension": ".py",
   "mimetype": "text/x-python",
   "name": "python",
   "nbconvert_exporter": "python",
   "pygments_lexer": "ipython3",
   "version": "3.13.5"
  }
 },
 "nbformat": 4,
 "nbformat_minor": 5
}
